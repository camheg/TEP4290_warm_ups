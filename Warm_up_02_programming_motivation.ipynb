{
 "cells": [
  {
   "cell_type": "markdown",
   "metadata": {},
   "source": [
    "# Dynamic Modelling Course - TEP4290: Warm-up 2\n",
    "Warm-up two is only there to encourage you to think about programming in general. You also have the option to experiment with copilot here.\n",
    "- PY4E: https://www.py4e.com/lessons/intro\n",
    "- Whirwind tour of python: https://github.com/jakevdp/WhirlwindTourOfPython/blob/master/00-Introduction.ipynb\n",
    "- VSC use of copilot in jupyter notebooks https://www.youtube.com/watch?v=QS_bh-3qKdw\n",
    "\n",
    "Get inspired!"
   ]
  },
  {
   "cell_type": "markdown",
   "metadata": {},
   "source": [
    "### sandbox\n",
    "you can play with some code here"
   ]
  },
  {
   "cell_type": "code",
   "execution_count": 1,
   "metadata": {},
   "outputs": [],
   "source": [
    "# function to check if a number is divisible by 11\n",
    "def divisible_by_11(n):\n",
    "    if n % 11 == 0:\n",
    "        return True\n",
    "    else:\n",
    "        return False\n"
   ]
  },
  {
   "cell_type": "code",
   "execution_count": 5,
   "metadata": {},
   "outputs": [
    {
     "name": "stdout",
     "output_type": "stream",
     "text": [
      "True\n",
      "False\n"
     ]
    }
   ],
   "source": [
    "print(divisible_by_11(22))\n",
    "print(divisible_by_11(23))"
   ]
  }
 ],
 "metadata": {
  "kernelspec": {
   "display_name": "Python 3",
   "language": "python",
   "name": "python3"
  },
  "language_info": {
   "codemirror_mode": {
    "name": "ipython",
    "version": 3
   },
   "file_extension": ".py",
   "mimetype": "text/x-python",
   "name": "python",
   "nbconvert_exporter": "python",
   "pygments_lexer": "ipython3",
   "version": "3.12.0"
  }
 },
 "nbformat": 4,
 "nbformat_minor": 2
}
