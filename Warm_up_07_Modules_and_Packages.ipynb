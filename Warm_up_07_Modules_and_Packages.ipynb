{
 "cells": [
  {
   "attachments": {},
   "cell_type": "markdown",
   "metadata": {},
   "source": [
    "# Dynamic Modelling Course - TEP4290: Warm-up 7\n",
    "The point of this exercise is for you to practice and familiarize yourself with importing modules and packages, something that you can learn about in the recommended what you have learned in the recommended video and notebook:\n",
    "- https://www.youtube.com/watch?v=Uei2ILcxuPs and \n",
    "- https://github.com/jakevdp/WhirlwindTourOfPython/blob/master/13-Modules-and-Packages.ipynb\n",
    "\n",
    "You will do some simple imports here to get comforable with modules and packages in Python. The exercise is pass/fail.\n",
    "\n",
    "Good luck!"
   ]
  },
  {
   "cell_type": "markdown",
   "metadata": {},
   "source": [
    "### Quick summary"
   ]
  },
  {
   "cell_type": "markdown",
   "metadata": {},
   "source": [
    "#### What are modules, packages and libraries"
   ]
  },
  {
   "cell_type": "markdown",
   "metadata": {},
   "source": [
    "Fundamentally, all three are resources of code that you can import to make use of functions and classes from that code. The difference is in the scope: a module is a single file, which you might just have written yourself, while a package is a collection of modules, and a library a collection of packages. "
   ]
  },
  {
   "cell_type": "markdown",
   "metadata": {},
   "source": [
    "#### Third party modules/packages/libraries"
   ]
  },
  {
   "cell_type": "markdown",
   "metadata": {},
   "source": [
    "While you can write your own code and import it to another file, you can also make use of code that other people published, typically in the form of packages and libraries like NumPy, Pandas or Matplotlib. While importing from your own modules requires to have a Python file (manually) available to import from, many are made publically available, so they can be installed through easy commands (or are even preinstalled) so you can import them more conveniently.\n",
    "\n",
    "Installing modules only needs to be done once for your Python environment (but might be difficult on cloud based notebooks though). You can use 'pip install' directly in the notebook, or 'conda install' in the anaconda prompt if you run your notebooks locally."
   ]
  },
  {
   "cell_type": "markdown",
   "metadata": {},
   "source": [
    "#### Making your own modules\n",
    "To make your own modules, you just need a Python (or notebook) file with some functions or classes in the same folder as the current file. You can then import these function/class definitions the same way as you would for third party modules."
   ]
  },
  {
   "cell_type": "markdown",
   "metadata": {},
   "source": [
    "#### Imports"
   ]
  },
  {
   "cell_type": "markdown",
   "metadata": {},
   "source": [
    "You fundamentally have the option to \n",
    "- 1. import all definitions of another module for direct use, \n",
    "- 2. to import the module so you can call the functions by calling module.function() \n",
    "- 3. to rename the module for the import, \n",
    "- 4. importing certain functions only. See the examples below:"
   ]
  },
  {
   "cell_type": "code",
   "execution_count": 2,
   "metadata": {},
   "outputs": [
    {
     "data": {
      "text/plain": [
       "array([0., 0., 0., 0., 0.])"
      ]
     },
     "execution_count": 2,
     "metadata": {},
     "output_type": "execute_result"
    }
   ],
   "source": [
    "#option 2\n",
    "import numpy\n",
    "numpy.zeros(5)"
   ]
  },
  {
   "cell_type": "code",
   "execution_count": 3,
   "metadata": {},
   "outputs": [
    {
     "data": {
      "text/plain": [
       "array([0., 0., 0., 0., 0.])"
      ]
     },
     "execution_count": 3,
     "metadata": {},
     "output_type": "execute_result"
    }
   ],
   "source": [
    "#option 3 (most common for the standard libraries like numpy, pandas etc)\n",
    "import numpy as np\n",
    "np.zeros(5)"
   ]
  },
  {
   "cell_type": "code",
   "execution_count": 4,
   "metadata": {},
   "outputs": [
    {
     "data": {
      "text/plain": [
       "array([0., 0., 0., 0., 0.])"
      ]
     },
     "execution_count": 4,
     "metadata": {},
     "output_type": "execute_result"
    }
   ],
   "source": [
    "#option 4\n",
    "from numpy import zeros\n",
    "zeros(5)"
   ]
  },
  {
   "cell_type": "markdown",
   "metadata": {},
   "source": [
    "Imports from jupyter notebooks look a bit differently, but are very convenient for your  project. Since your jupyter notebook works somehow different than a regular python file, we can (and should) specify to only import the definitions (avoids running all the other commands that might be in the notebook). If you have the Jupyter notebook called WU7_external_functions in the same folder, the following code should work:\n",
    "\n",
    "Hint: If you get the error message that no module ipynb was found, install the ipynb module first (see next section)."
   ]
  },
  {
   "cell_type": "code",
   "execution_count": 5,
   "metadata": {},
   "outputs": [
    {
     "name": "stdout",
     "output_type": "stream",
     "text": [
      "The import of the example function was successful!\n"
     ]
    }
   ],
   "source": [
    "from ipynb.fs.defs.Warm_up_07_external_functions import example_function\n",
    "\n",
    "example_function()"
   ]
  },
  {
   "cell_type": "markdown",
   "metadata": {},
   "source": [
    "### Installing\n",
    "While there are some standard libraries that most python installers already install for you, the majority of external python libraries you will have to install before using. While you can install libraries from local repositories, the easiest way to install common libraries is using pythons inegration of \"install\". Python then automatically checks if you already have the package installed and what requirements a certain package might have, downloads and installs these for you. \n",
    "\n",
    "Most of you will not have the ipynb module installed yet, so you can do it here (if you have problems, an alternative is the anaconda promt with \"conda install [insert package name\")-\n"
   ]
  },
  {
   "cell_type": "code",
   "execution_count": null,
   "metadata": {},
   "outputs": [],
   "source": [
    "#uncomment the next line to install and then comment once you installed the package successfully.\n",
    "#%pip install ipynb"
   ]
  },
  {
   "cell_type": "markdown",
   "metadata": {},
   "source": [
    "#### Best practice for importing\n",
    "While imports can work in a variety of ways, there are some beste practices for how to structure your imports: \n",
    "- Imports should usually be on separate lines\n",
    "- Imports are always put at the top of the file, just after any module comments and docstrings, and before module globals and constants.\n",
    "- Imports should be grouped in the following order:\n",
    "    - Standard library imports.\n",
    "    - Related third party imports.\n",
    "    - Local application/library specific imports.\n",
    "- You should put a blank line between each group of imports.\n",
    "\n",
    "These are recommendations taken from the PEP 8 style guide for python, https://www.python.org/dev/peps/pep-0008/#fn-hi"
   ]
  },
  {
   "cell_type": "markdown",
   "metadata": {},
   "source": [
    "# Tasks\n",
    "Complete the tasks outlined below to achieve the same output as you find in the original file. Use the specific method described if applicable."
   ]
  },
  {
   "cell_type": "markdown",
   "metadata": {},
   "source": [
    "## Import...as from third party standard libraries\n",
    "import numpy and pandas such that the following operations work:"
   ]
  },
  {
   "cell_type": "code",
   "execution_count": 5,
   "metadata": {},
   "outputs": [
    {
     "name": "stdout",
     "output_type": "stream",
     "text": [
      "[[1. 0. 0. 0. 0.]\n",
      " [0. 1. 0. 0. 0.]\n",
      " [0. 0. 1. 0. 0.]\n",
      " [0. 0. 0. 1. 0.]\n",
      " [0. 0. 0. 0. 1.]]\n",
      "     0    1    2    3    4\n",
      "0  1.0  0.0  0.0  0.0  0.0\n",
      "1  0.0  1.0  0.0  0.0  0.0\n",
      "2  0.0  0.0  1.0  0.0  0.0\n",
      "3  0.0  0.0  0.0  1.0  0.0\n",
      "4  0.0  0.0  0.0  0.0  1.0\n"
     ]
    }
   ],
   "source": [
    "#add imports\n",
    "\n",
    "\n",
    "matrix = nmpy.eye(5)\n",
    "print(matrix)\n",
    "df = pnds.DataFrame(matrix)\n",
    "print(df)"
   ]
  },
  {
   "cell_type": "code",
   "execution_count": 6,
   "metadata": {},
   "outputs": [
    {
     "name": "stdout",
     "output_type": "stream",
     "text": [
      "[[1. 0. 0. 0. 0.]\n",
      " [0. 1. 0. 0. 0.]\n",
      " [0. 0. 1. 0. 0.]\n",
      " [0. 0. 0. 1. 0.]\n",
      " [0. 0. 0. 0. 1.]]\n",
      "     0    1    2    3    4\n",
      "0  1.0  0.0  0.0  0.0  0.0\n",
      "1  0.0  1.0  0.0  0.0  0.0\n",
      "2  0.0  0.0  1.0  0.0  0.0\n",
      "3  0.0  0.0  0.0  1.0  0.0\n",
      "4  0.0  0.0  0.0  0.0  1.0\n"
     ]
    }
   ],
   "source": [
    "#add imports\n",
    "\n",
    "\n",
    "matrix = numericalOperationsPython.eye(5)\n",
    "print(matrix)\n",
    "df = AiluropodaMelanoleuca.DataFrame(matrix)\n",
    "print(df)"
   ]
  },
  {
   "cell_type": "markdown",
   "metadata": {},
   "source": [
    "## Importing a cosine function\n",
    "Often you will know what you want to do, but not how to do it in Python, so it makes sense to look for functions that you want use. In this task you will look up two ways to import a cosine function into python and use both in the second chunk (the first one ist just to set up, you do not need to change it)"
   ]
  },
  {
   "cell_type": "markdown",
   "metadata": {},
   "source": [
    "##### Setup - not a task!\n",
    "You don't need to understand precisely what the print_cosine function does, just that it prints the cosine between 0 and 2 pi if you hand it a cosine function. The exponential function is just an example!"
   ]
  },
  {
   "cell_type": "code",
   "execution_count": 7,
   "metadata": {},
   "outputs": [
    {
     "data": {
      "image/png": "[encoded data removed]",
      "text/plain": [
       "<Figure size 864x360 with 1 Axes>"
      ]
     },
     "metadata": {
      "needs_background": "light"
     },
     "output_type": "display_data"
    }
   ],
   "source": [
    "import matplotlib.pyplot as plt # for plotting\n",
    "import numpy as np #for the e function\n",
    "\n",
    "def print_cosine(cosine):\n",
    "    '''Prints cosine between 0 and two pi'''\n",
    "    plt.figure(figsize = (12,5))\n",
    "    numbers = [0, 0.5, 1, 1.5, 2, 2.5, 3, 3.5, 4, 4.5, 5, 5.5, 6, 6.5]\n",
    "    y = []\n",
    "    for x in numbers:\n",
    "        y.append(cosine(x))\n",
    "    plt.plot(numbers, y)\n",
    "    plt.xlabel('x')\n",
    "    plt.ylabel('cosine(x)')\n",
    "    \n",
    "print_cosine(np.exp) #also works with not cosine functions...\n"
   ]
  },
  {
   "attachments": {},
   "cell_type": "markdown",
   "metadata": {},
   "source": [
    "now import a cosine function and use it in the print_cosine function to make the plots below"
   ]
  },
  {
   "cell_type": "code",
   "execution_count": 8,
   "metadata": {
    "scrolled": false
   },
   "outputs": [
    {
     "data": {
      "image/png": "[encoded data removed]",
      "text/plain": [
       "<Figure size 864x360 with 1 Axes>"
      ]
     },
     "metadata": {
      "needs_background": "light"
     },
     "output_type": "display_data"
    },
    {
     "data": {
      "image/png": "[encoded data removed]",
      "text/plain": [
       "<Figure size 864x360 with 1 Axes>"
      ]
     },
     "metadata": {
      "needs_background": "light"
     },
     "output_type": "display_data"
    }
   ],
   "source": [
    "#add your imports here\n"
   ]
  },
  {
   "cell_type": "markdown",
   "metadata": {},
   "source": [
    "## Import from another Python file\n",
    "Define the function at the top of the WU7_py_file, name it after yourselve ('name_greets', arguments: person) and import it to this file"
   ]
  },
  {
   "cell_type": "code",
   "execution_count": 9,
   "metadata": {},
   "outputs": [
    {
     "name": "stdout",
     "output_type": "stream",
     "text": [
      "Nils: Servus Marceau\n"
     ]
    }
   ],
   "source": []
  },
  {
   "cell_type": "markdown",
   "metadata": {},
   "source": [
    "## Import entire module \n",
    "Import the module from the Warm_up07_external_functions notebook as wu to this notebook and use the functions defined there to finish the gameshow program."
   ]
  },
  {
   "cell_type": "code",
   "execution_count": 10,
   "metadata": {},
   "outputs": [
    {
     "name": "stdout",
     "output_type": "stream",
     "text": [
      "Welcome to the CodeInPlace Game Show\n",
      "Pick a door and win a prize\n",
      "------------------------------------\n",
      "Door: 6\n",
      "Invalid door!\n",
      "Door: 2\n",
      "You win 10 treats\n"
     ]
    }
   ],
   "source": [
    "\n",
    "\n",
    "def gameshow(): \n",
    "    print(\"Welcome to the CodeInPlace Game Show\")\n",
    "    print(\"Pick a door and win a prize\")\n",
    "    print(\"------------------------------------\")\n",
    "\n",
    "    #add functions here\n",
    "    \n",
    "    \n",
    "    print('You win ' + str(prize) + ' treats')\n",
    "\n",
    "gameshow()"
   ]
  }
 ],
 "metadata": {
  "kernelspec": {
   "display_name": "base",
   "language": "python",
   "name": "python3"
  },
  "language_info": {
   "codemirror_mode": {
    "name": "ipython",
    "version": 3
   },
   "file_extension": ".py",
   "mimetype": "text/x-python",
   "name": "python",
   "nbconvert_exporter": "python",
   "pygments_lexer": "ipython3",
   "version": "3.9.12"
  },
  "vscode": {
   "interpreter": {
    "hash": "9fac21e72c48f7c52766c8400b238ed12b6275f2bd1d19c0f794e1c79d61ab02"
   }
  }
 },
 "nbformat": 4,
 "nbformat_minor": 4
}
