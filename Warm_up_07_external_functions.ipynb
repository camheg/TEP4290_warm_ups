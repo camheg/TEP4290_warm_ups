{
 "cells": [
  {
   "cell_type": "markdown",
   "metadata": {},
   "source": [
    "## Simple example"
   ]
  },
  {
   "cell_type": "code",
   "execution_count": 1,
   "metadata": {},
   "outputs": [],
   "source": [
    "def example_function():\n",
    "    print('The import of the example function was successful!')"
   ]
  },
  {
   "cell_type": "markdown",
   "metadata": {},
   "source": [
    "## Functions for the game show:"
   ]
  },
  {
   "cell_type": "code",
   "execution_count": 1,
   "metadata": {},
   "outputs": [],
   "source": [
    "def get_door():\n",
    "    \"\"\"\n",
    "    Get door, asks the user to enter a door\n",
    "    Reprompts the user until they enter 1, 2 or 3\n",
    "    Returns the valid door choice as an int\n",
    "    \"\"\"\n",
    "    door = int(input(\"Door: \"))\n",
    "    print(\"Door:\",door)\n",
    "    # while the input is invalid\n",
    "    while door < 1 or door > 3 :\n",
    "        # tell the user the input was invalid\n",
    "        print(\"Door:\",door)\n",
    "        print(\"Invalid door!\")\n",
    "        # ask for a new input\n",
    "        door = int(input(\"Door: \"))\n",
    "    return door"
   ]
  },
  {
   "cell_type": "code",
   "execution_count": 2,
   "metadata": {},
   "outputs": [],
   "source": [
    "def compute_prize(door):\n",
    "    \"\"\"\n",
    "    Compute prize, based off the door which is \n",
    "    given as a parameter. Returns the prize. \n",
    "    Uses many non-constant magic-numbers just to \n",
    "    make the game more fun to play in class!\n",
    "    \"\"\"\n",
    "    prize = 4\n",
    "    if door == 1:\n",
    "        # what happens in door 1?\n",
    "        prize = 2 + 9 // 10 * 100\n",
    "    elif door == 2:\n",
    "        # what happens in door 2?\n",
    "        locked = prize % 2 != 0\n",
    "        if not locked:\n",
    "            prize += 6\n",
    "    elif door == 3 :\n",
    "        # what happens in door 3?\n",
    "        for i in range(door):\n",
    "            prize += i  \n",
    "    return prize"
   ]
  }
 ],
 "metadata": {
  "kernelspec": {
   "display_name": "Python 3",
   "language": "python",
   "name": "python3"
  },
  "language_info": {
   "codemirror_mode": {
    "name": "ipython",
    "version": 3
   },
   "file_extension": ".py",
   "mimetype": "text/x-python",
   "name": "python",
   "nbconvert_exporter": "python",
   "pygments_lexer": "ipython3",
   "version": "3.12.0"
  }
 },
 "nbformat": 4,
 "nbformat_minor": 4
}
