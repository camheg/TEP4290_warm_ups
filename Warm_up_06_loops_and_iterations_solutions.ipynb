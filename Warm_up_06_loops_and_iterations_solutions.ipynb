{
 "cells": [
  {
   "cell_type": "markdown",
   "metadata": {},
   "source": [
    "# Dynamic Modelling Course - TEP4290: Warm-up 6\n",
    "The point of this exercise is for you to practice what you have learned in the recommended videos and notebook on loops: \n",
    "- https://www.py4e.com/lessons/loops and \n",
    "- https://github.com/jakevdp/WhirlwindTourOfPython/blob/master/10-Iterators.ipynb\n",
    "\n",
    "You will perform some basic operations that are designed to help you to get comforable with loops and iterations in Python. The exercise is pass/fail.\n",
    "\n",
    "Good luck!"
   ]
  },
  {
   "cell_type": "markdown",
   "metadata": {},
   "source": [
    "### Quick summary"
   ]
  },
  {
   "cell_type": "markdown",
   "metadata": {},
   "source": [
    "#### Infinite loops - while loops"
   ]
  },
  {
   "cell_type": "markdown",
   "metadata": {},
   "source": [
    "A while loop is a statement that will execute its body repeatetly as long as its condition is true:\n",
    "the following chunk of code will never stop (try if you want, you can just restart the kernel to stop it)."
   ]
  },
  {
   "cell_type": "code",
   "execution_count": 1,
   "metadata": {},
   "outputs": [],
   "source": [
    "#while True:\n",
    "#    print('Infinite power!')"
   ]
  },
  {
   "cell_type": "markdown",
   "metadata": {},
   "source": [
    "To make productive use of while loops we therefore often use an iteration variable - something that helps to stop it:"
   ]
  },
  {
   "cell_type": "code",
   "execution_count": 2,
   "metadata": {},
   "outputs": [
    {
     "name": "stdout",
     "output_type": "stream",
     "text": [
      "Go shopping!\n",
      "Go shopping!\n",
      "Go shopping!\n",
      "Go shopping!\n",
      "Go shopping!\n",
      "Go to work.\n"
     ]
    }
   ],
   "source": [
    "bank_account = 1000\n",
    "while bank_account >0:\n",
    "    print('Go shopping!')\n",
    "    bank_account -= 200\n",
    "print('Go to work.')"
   ]
  },
  {
   "cell_type": "markdown",
   "metadata": {},
   "source": [
    "Another option is to use the break keyword: "
   ]
  },
  {
   "cell_type": "code",
   "execution_count": 3,
   "metadata": {},
   "outputs": [
    {
     "name": "stdout",
     "output_type": "stream",
     "text": [
      "Go shopping!\n",
      "Go shopping!\n",
      "Go shopping!\n",
      "Go shopping!\n",
      "Go shopping!\n",
      "Go shopping!\n",
      "Go to work.\n"
     ]
    }
   ],
   "source": [
    "bank_account = 1000\n",
    "while True:\n",
    "    print('Go shopping!')\n",
    "    bank_account -= 200\n",
    "    if bank_account <0:\n",
    "        print('Go to work.')\n",
    "        break"
   ]
  },
  {
   "cell_type": "markdown",
   "metadata": {},
   "source": [
    "#### Finite loops:\n",
    "Much more often you will need a finite loop, using a for statetment:"
   ]
  },
  {
   "cell_type": "code",
   "execution_count": 4,
   "metadata": {},
   "outputs": [
    {
     "name": "stdout",
     "output_type": "stream",
     "text": [
      "1\n",
      "2\n",
      "3\n"
     ]
    }
   ],
   "source": [
    "liste = [1,2,3]\n",
    "for element in liste:\n",
    "    print(element)"
   ]
  },
  {
   "cell_type": "markdown",
   "metadata": {},
   "source": [
    "For loops need to iterate over something - there are some nice tricks to this which you will pick up as you go (I recommend to just use google/stackoverflow to check for smart ways of doing what you want to do). \n",
    "\n",
    "A simple example of this can be if you want to have both an element and its index from a list and can use enumerate:"
   ]
  },
  {
   "cell_type": "code",
   "execution_count": 5,
   "metadata": {},
   "outputs": [
    {
     "name": "stdout",
     "output_type": "stream",
     "text": [
      "Superman is on place 0\n",
      "Batman is on place 1\n",
      "Green Lantern is on place 2\n",
      "Aquaman is on place 3\n"
     ]
    }
   ],
   "source": [
    "names = ['Superman', 'Batman', 'Green Lantern', 'Aquaman']\n",
    "for index, name in enumerate(names):\n",
    "    print(name, 'is on place', index)"
   ]
  },
  {
   "cell_type": "markdown",
   "metadata": {},
   "source": [
    "# Tasks\n",
    "Complete the tasks outlined below to achieve the same output as you find in the original file. Use the specific method described if applicable."
   ]
  },
  {
   "cell_type": "markdown",
   "metadata": {},
   "source": [
    "## For loop print:\n",
    "Using a for loop. write a function happy_wishes that prints happy new year for a list of three of your friends. Once you have wished all of them happy new year, print 'Done!'"
   ]
  },
  {
   "cell_type": "code",
   "execution_count": 6,
   "metadata": {},
   "outputs": [
    {
     "name": "stdout",
     "output_type": "stream",
     "text": [
      "Happy New Year: Superman\n",
      "Happy New Year: Batman\n",
      "Happy New Year: Green Lantern\n",
      "Done!\n"
     ]
    }
   ],
   "source": [
    "def happy_wishes(friends):\n",
    "    for friend in friends:\n",
    "        print('Happy New Year: ' + friend)\n",
    "    print('Done!')\n",
    "    return\n",
    "\n",
    "friends = ['Superman', 'Batman', 'Green Lantern']\n",
    "happy_wishes(friends)"
   ]
  },
  {
   "cell_type": "markdown",
   "metadata": {},
   "source": [
    "## Chessboard\n",
    "A chessboard has rows that go from 1 to 8 and columns that go from A to H. Write a function using a for loop that returns all possibible positions a piece can be at, and puts them into a list."
   ]
  },
  {
   "cell_type": "code",
   "execution_count": 7,
   "metadata": {
    "scrolled": true
   },
   "outputs": [
    {
     "name": "stdout",
     "output_type": "stream",
     "text": [
      "We add the case A1\n",
      "We add the case A2\n",
      "We add the case A3\n",
      "We add the case A4\n",
      "We add the case A5\n",
      "We add the case A6\n",
      "We add the case A7\n",
      "We add the case A8\n",
      "We add the case B1\n",
      "We add the case B2\n",
      "We add the case B3\n",
      "We add the case B4\n",
      "We add the case B5\n",
      "We add the case B6\n",
      "We add the case B7\n",
      "We add the case B8\n",
      "We add the case C1\n",
      "We add the case C2\n",
      "We add the case C3\n",
      "We add the case C4\n",
      "We add the case C5\n",
      "We add the case C6\n",
      "We add the case C7\n",
      "We add the case C8\n",
      "We add the case D1\n",
      "We add the case D2\n",
      "We add the case D3\n",
      "We add the case D4\n",
      "We add the case D5\n",
      "We add the case D6\n",
      "We add the case D7\n",
      "We add the case D8\n",
      "We add the case E1\n",
      "We add the case E2\n",
      "We add the case E3\n",
      "We add the case E4\n",
      "We add the case E5\n",
      "We add the case E6\n",
      "We add the case E7\n",
      "We add the case E8\n",
      "We add the case F1\n",
      "We add the case F2\n",
      "We add the case F3\n",
      "We add the case F4\n",
      "We add the case F5\n",
      "We add the case F6\n",
      "We add the case F7\n",
      "We add the case F8\n",
      "We add the case G1\n",
      "We add the case G2\n",
      "We add the case G3\n",
      "We add the case G4\n",
      "We add the case G5\n",
      "We add the case G6\n",
      "We add the case G7\n",
      "We add the case G8\n",
      "We add the case H1\n",
      "We add the case H2\n",
      "We add the case H3\n",
      "We add the case H4\n",
      "We add the case H5\n",
      "We add the case H6\n",
      "We add the case H7\n",
      "We add the case H8\n",
      "[['A', 1], ['A', 2], ['A', 3], ['A', 4], ['A', 5], ['A', 6], ['A', 7], ['A', 8], ['B', 1], ['B', 2], ['B', 3], ['B', 4], ['B', 5], ['B', 6], ['B', 7], ['B', 8], ['C', 1], ['C', 2], ['C', 3], ['C', 4], ['C', 5], ['C', 6], ['C', 7], ['C', 8], ['D', 1], ['D', 2], ['D', 3], ['D', 4], ['D', 5], ['D', 6], ['D', 7], ['D', 8], ['E', 1], ['E', 2], ['E', 3], ['E', 4], ['E', 5], ['E', 6], ['E', 7], ['E', 8], ['F', 1], ['F', 2], ['F', 3], ['F', 4], ['F', 5], ['F', 6], ['F', 7], ['F', 8], ['G', 1], ['G', 2], ['G', 3], ['G', 4], ['G', 5], ['G', 6], ['G', 7], ['G', 8], ['H', 1], ['H', 2], ['H', 3], ['H', 4], ['H', 5], ['H', 6], ['H', 7], ['H', 8]]\n"
     ]
    }
   ],
   "source": [
    "### Use this as a starting point\n",
    "columns = ['A','B','C','D','E','F','G','H']\n",
    "rows = range(1,9) # Remember that the range function takes all values in steps of 1 from the initial value given up to,\n",
    "# but including the max value. I.e. in this case the numbers go from 1 to 8\n",
    "chessboard =[] # The method .append() adds an element at the end of the list\n",
    "\n",
    "def make_chessboard(columns, rows):\n",
    "    chessboard = []\n",
    "    for column in columns:\n",
    "        for row in rows:\n",
    "            chessboard.append([column, row])\n",
    "            print(\"We add the case \" + column + str(row))\n",
    "    return chessboard\n",
    "\n",
    "my_board = make_chessboard(columns, rows)\n",
    "print(my_board)"
   ]
  },
  {
   "cell_type": "markdown",
   "metadata": {},
   "source": [
    "## Finding things\n",
    "Write a function that takes in a list of names and a single name and checks if that name occurs in the list using a for loop.\n",
    "\n",
    "Hint: you can use break or just return (works like break if you want to terminate the entire function. How else could you solve that task?"
   ]
  },
  {
   "cell_type": "code",
   "execution_count": 8,
   "metadata": {},
   "outputs": [
    {
     "data": {
      "text/plain": [
       "True"
      ]
     },
     "execution_count": 8,
     "metadata": {},
     "output_type": "execute_result"
    }
   ],
   "source": [
    "def find(names, key_name):\n",
    "    for name in names:\n",
    "        if name == key_name:\n",
    "            return True\n",
    "    return False\n",
    "\n",
    "find(['Superman', 'Batman', 'Green Lantern', 'Batman', 'Aquaman', 'Batman'], 'Batman')"
   ]
  },
  {
   "cell_type": "code",
   "execution_count": 9,
   "metadata": {},
   "outputs": [
    {
     "data": {
      "text/plain": [
       "True"
      ]
     },
     "execution_count": 9,
     "metadata": {},
     "output_type": "execute_result"
    }
   ],
   "source": [
    "'Batman' in ['Superman', 'Batman', 'Green Lantern', 'Aquaman']"
   ]
  },
  {
   "cell_type": "markdown",
   "metadata": {},
   "source": [
    "## Counting things\n",
    "Do the same as before: write a function that takes in a list of names and a single name, but this time return _how often_ the name occurs in the list."
   ]
  },
  {
   "cell_type": "code",
   "execution_count": 10,
   "metadata": {},
   "outputs": [
    {
     "data": {
      "text/plain": [
       "3"
      ]
     },
     "execution_count": 10,
     "metadata": {},
     "output_type": "execute_result"
    }
   ],
   "source": [
    "def count(names, key_name):\n",
    "    counter = 0\n",
    "    for name in names:\n",
    "        if name == key_name:\n",
    "            counter += 1\n",
    "    return counter\n",
    "\n",
    "count(['Superman', 'Batman', 'Green Lantern', 'Batman', 'Aquaman', 'Batman'], 'Batman')"
   ]
  },
  {
   "cell_type": "markdown",
   "metadata": {},
   "source": [
    "## Fibonacci\n",
    "Can you write a function called fibonacci that takes an integer n as an argument and returns the list of the n first numbers of the fibonacci sequence? Write the funtion and print the result for n=20.\n",
    "\n",
    "A fibonaci sequence starts with two numbers (usually 0 and 1), each entry after that is the sum of the two prior. See also https://en.wikipedia.org/wiki/Fibonacci_number.\n",
    "\n",
    "Hint: There are many solutions to this task - with varying efficiencies you might use for loops, while loops or recursion."
   ]
  },
  {
   "cell_type": "code",
   "execution_count": 11,
   "metadata": {},
   "outputs": [
    {
     "name": "stdout",
     "output_type": "stream",
     "text": [
      "[0, 1, 1, 2, 3, 5, 8, 13, 21, 34, 55, 89, 144, 233, 377, 610, 987, 1597, 2584, 4181]\n"
     ]
    }
   ],
   "source": [
    "def fibonnacci(n):\n",
    "    \"\"\" \n",
    "    This function takes an integer n as an argument and \n",
    "    returns the list of the n first numbers of the fibonacci list\n",
    "    \"\"\"\n",
    "    if n == 2:\n",
    "        fibonacci_list = [0, 1] \n",
    "        return fibonacci_list\n",
    "    else:\n",
    "        fibonacci_list = fibonnacci(n-1)\n",
    "        fibonacci_list.append(fibonacci_list[n-2]+ fibonacci_list[n-3])\n",
    "        return fibonacci_list\n",
    "    \n",
    "print(fibonnacci(20))"
   ]
  },
  {
   "cell_type": "code",
   "execution_count": 12,
   "metadata": {},
   "outputs": [
    {
     "name": "stdout",
     "output_type": "stream",
     "text": [
      "[0, 1, 1, 2, 3, 5, 8, 13, 21, 34, 55, 89, 144, 233, 377, 610, 987, 1597, 2584, 4181]\n"
     ]
    }
   ],
   "source": [
    "def fibonnacci(n):\n",
    "    \"\"\" \n",
    "    This function takes an integer n as an argument and \n",
    "    returns the list of the n first numbers of the fibonacci list\n",
    "    \"\"\"\n",
    "    fibonacci_list = [0,1]\n",
    "    for i in range(n-2):\n",
    "        a = fibonacci_list[i]\n",
    "        b = fibonacci_list[i+1]\n",
    "        fibonacci_list.append(a+b)\n",
    "    return fibonacci_list\n",
    "    \n",
    "print(fibonnacci(20))"
   ]
  }
 ],
 "metadata": {
  "kernelspec": {
   "display_name": "Python 3",
   "language": "python",
   "name": "python3"
  },
  "language_info": {
   "codemirror_mode": {
    "name": "ipython",
    "version": 3
   },
   "file_extension": ".py",
   "mimetype": "text/x-python",
   "name": "python",
   "nbconvert_exporter": "python",
   "pygments_lexer": "ipython3",
   "version": "3.11.7"
  }
 },
 "nbformat": 4,
 "nbformat_minor": 4
}
